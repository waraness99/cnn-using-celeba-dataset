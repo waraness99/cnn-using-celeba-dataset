{
  "cells": [
    {
      "cell_type": "markdown",
      "metadata": {
        "id": "4AS8aQJCx8Jr"
      },
      "source": [
        "# A CNN to predict face attractiveness "
      ]
    },
    {
      "cell_type": "markdown",
      "metadata": {},
      "source": [
        "## 1. Global setup\n",
        "\n",
        "We import the general modules and define the global constants that will be useful throughout this program."
      ]
    },
    {
      "cell_type": "code",
      "execution_count": 1,
      "metadata": {
        "id": "Nl5_NSlqiXF4"
      },
      "outputs": [],
      "source": [
        "import numpy as np\n",
        "import matplotlib.pyplot as plt\n",
        "import pandas as pd"
      ]
    },
    {
      "cell_type": "code",
      "execution_count": 2,
      "metadata": {
        "id": "L_0wRPCffxi2"
      },
      "outputs": [],
      "source": [
        "MAIN_PATH = 'input/celeba_dataset/'\n",
        "DATA_PATH = MAIN_PATH + 'img_align_celeba/img_align_celeba/'\n",
        "ATTRIBUTE_PATH = MAIN_PATH + 'list_attr_celeba.csv'\n",
        "EXAMPLE_PIC = DATA_PATH + '000001.jpg'\n",
        "TEST_PIC_PATH = './test_pic/'"
      ]
    },
    {
      "cell_type": "markdown",
      "metadata": {
        "id": "X6u8qFs0uVMk"
      },
      "source": [
        "## 2. Import and explore dataset\n",
        "\n",
        "This project is based on the Celeba dataset provided on Kaggle. We have downloaded it and imported it into the root of this project.\n",
        "\n",
        "First, let's import the dataset and see what it contains:"
      ]
    },
    {
      "cell_type": "code",
      "execution_count": null,
      "metadata": {
        "colab": {
          "base_uri": "https://localhost:8080/"
        },
        "id": "-N2vtzTzsbyH",
        "outputId": "67f85058-e503-440f-c3d4-2b724fcf1677"
      },
      "outputs": [],
      "source": [
        "dataset = pd.read_csv(ATTRIBUTE_PATH, index_col='image_id')\n",
        "dataset.head()"
      ]
    },
    {
      "cell_type": "markdown",
      "metadata": {},
      "source": [
        "Let's display the first image of our dataset to see how it looks."
      ]
    },
    {
      "cell_type": "code",
      "execution_count": null,
      "metadata": {
        "id": "NFU6q6ZzSs-f"
      },
      "outputs": [],
      "source": [
        "from keras.preprocessing.image import load_img\n",
        "\n",
        "img1 = load_img(EXAMPLE_PIC)\n",
        "plt.imshow(img1)\n",
        "plt.show()"
      ]
    },
    {
      "cell_type": "markdown",
      "metadata": {},
      "source": [
        "In this project, you are asked to build and train a convolutional neural network model able to detect the presence or not of **one specific human feature in face images. So, we have to select one attribute for our model. To do this, we looked at attributes and check if data are well balanced. We visualize them with bar charts.\n",
        "\n",
        "After looking at several attributes, we've chosen to detect whether people are attractive or not. As you can see, the bar chart below is well balanced, and in addition it's funny :)"
      ]
    },
    {
      "cell_type": "code",
      "execution_count": null,
      "metadata": {},
      "outputs": [],
      "source": [
        "import seaborn as sns\n",
        "\n",
        "print(\"Attractiveness distribution over the dataset:\")\n",
        "plt.title('Attractiveness Distribution')\n",
        "sns.countplot(y='Attractive', data=dataset)\n",
        "plt.show()"
      ]
    },
    {
      "cell_type": "markdown",
      "metadata": {
        "id": "O8Mreg55yU4F"
      },
      "source": [
        "## 3. Data pre-processing\n",
        "\n",
        "Next, the dataset is split into two parts; on the one hand the data that will be used to train the models and on the other hand the data that will be used to measure performance."
      ]
    },
    {
      "cell_type": "code",
      "execution_count": null,
      "metadata": {
        "colab": {
          "base_uri": "https://localhost:8080/"
        },
        "id": "krpTHbA8yg6C",
        "outputId": "7b49b7d5-d6a9-4f21-939b-adeb8042f248"
      },
      "outputs": [],
      "source": [
        "from sklearn.model_selection import train_test_split\n",
        "\n",
        "train_set, test_set = train_test_split(dataset, test_size = 0.2, random_state = 0)"
      ]
    },
    {
      "cell_type": "markdown",
      "metadata": {},
      "source": [
        "Let's check that our dataset has been successfully split"
      ]
    },
    {
      "cell_type": "code",
      "execution_count": null,
      "metadata": {},
      "outputs": [],
      "source": [
        "print(\"Train shape: \", train_set.shape)\n",
        "print(\"Test shape: \", test_set.shape)"
      ]
    },
    {
      "cell_type": "markdown",
      "metadata": {},
      "source": [
        "Now we will create 2 directories. One directory for the `training_set` and a second one for the `testing_set`. Each directories will contain 2 subdirectories. Those subdirectories correspond to the absence or presence of the attribute. In our case, in each directory, we will have a subdirectory `attractive` and a second `not_attractive`. "
      ]
    },
    {
      "cell_type": "code",
      "execution_count": null,
      "metadata": {
        "id": "3VcSALov0IBP"
      },
      "outputs": [],
      "source": [
        "import os\n",
        "\n",
        "# Create our 2 directories\n",
        "os.makedirs(\"input/attractiveness/train_set\")\n",
        "os.makedirs(\"input/attractiveness/test_set\")\n",
        "\n",
        "# Create subdirectories in each one\n",
        "os.makedirs(\"input/attractiveness/test_set/not_attractive\")\n",
        "os.makedirs(\"input/attractiveness/test_set/attractive\")\n",
        "os.makedirs(\"input/attractiveness/train_set/attractive\")\n",
        "os.makedirs(\"input/attractiveness/train_set/not_attractive\")"
      ]
    },
    {
      "cell_type": "markdown",
      "metadata": {},
      "source": [
        "Now, we split our `train_set` into 2 parts. One part contains only the attractive people. And a second part containing not_attractive people."
      ]
    },
    {
      "cell_type": "code",
      "execution_count": null,
      "metadata": {
        "id": "H97640ni2c4D"
      },
      "outputs": [],
      "source": [
        "\n",
        "train_set_not_attractive = train_set.query('Attractive == -1')\n",
        "train_set_attractive = train_set.query('Attractive == +1')"
      ]
    },
    {
      "cell_type": "markdown",
      "metadata": {},
      "source": [
        "All that remains is to add them to the corresponding subdirectories."
      ]
    },
    {
      "cell_type": "code",
      "execution_count": null,
      "metadata": {},
      "outputs": [],
      "source": [
        "import shutil\n",
        "\n",
        "for img in train_set_not_attractive.index.values:\n",
        "  shutil.copy(DATA_PATH + img, \"input/attractiveness/train_set/not_attractive\")\n",
        "for img in train_set_attractive.index.values:\n",
        "  shutil.copy(DATA_PATH + img, \"input/attractiveness/train_set/attractive\")"
      ]
    },
    {
      "cell_type": "markdown",
      "metadata": {},
      "source": [
        "We can do the exact same thing for our `test_set`."
      ]
    },
    {
      "cell_type": "code",
      "execution_count": null,
      "metadata": {
        "id": "2AxXjLmiATEK"
      },
      "outputs": [],
      "source": [
        "test_set_not_attractive = test_set.query('Attractive == -1')\n",
        "test_set_attractive = test_set.query('Attractive == +1')\n",
        "\n",
        "for img in test_set_not_attractive.index.values:\n",
        "  shutil.copy(DATA_PATH + img, \"input/attractiveness/test_set/not_attractive\")\n",
        "for img in test_set_attractive.index.values:\n",
        "  shutil.copy(DATA_PATH + img, \"input/attractiveness/test_set/attractive\")"
      ]
    },
    {
      "cell_type": "markdown",
      "metadata": {
        "id": "eNMBQQfDyNiq"
      },
      "source": [
        "## 4. Data Augmentation"
      ]
    },
    {
      "cell_type": "code",
      "execution_count": null,
      "metadata": {
        "id": "Qtb7EinWBryS"
      },
      "outputs": [],
      "source": [
        "from keras.preprocessing.image import ImageDataGenerator\n",
        "\n",
        "train_datagen = ImageDataGenerator(\n",
        "        rescale=1./255,\n",
        "        shear_range=0.2,\n",
        "        zoom_range=0.2,\n",
        "        horizontal_flip=True)\n",
        "test_datagen = ImageDataGenerator(rescale=1./255)"
      ]
    },
    {
      "cell_type": "markdown",
      "metadata": {
        "id": "qkjhywgXBpvA"
      },
      "source": [
        "## 5. Building CNN"
      ]
    },
    {
      "cell_type": "code",
      "execution_count": null,
      "metadata": {},
      "outputs": [],
      "source": [
        "TARGET_SIZE = (64, 64)\n",
        "BATCH_SIZE = 128"
      ]
    },
    {
      "cell_type": "markdown",
      "metadata": {},
      "source": [
        "Create the training and testing sets for the CNN classifier."
      ]
    },
    {
      "cell_type": "code",
      "execution_count": null,
      "metadata": {
        "colab": {
          "base_uri": "https://localhost:8080/"
        },
        "id": "e9Nedu72Dfpj",
        "outputId": "1244b1d0-d0d8-4c28-d46b-e357de9888ce"
      },
      "outputs": [],
      "source": [
        "train_generator = train_datagen.flow_from_directory(\n",
        "    'input/attractiveness/train_set',\n",
        "    target_size = TARGET_SIZE,\n",
        "    batch_size = BATCH_SIZE,\n",
        "    class_mode = 'binary')"
      ]
    },
    {
      "cell_type": "code",
      "execution_count": null,
      "metadata": {
        "colab": {
          "base_uri": "https://localhost:8080/"
        },
        "id": "MhcueQMoEpVL",
        "outputId": "ff17ac78-227d-458d-b726-26b7fd63b306"
      },
      "outputs": [],
      "source": [
        "validation_generator = test_datagen.flow_from_directory(\n",
        "    'input/attractiveness/test_set',\n",
        "    target_size = TARGET_SIZE,\n",
        "    batch_size = BATCH_SIZE,\n",
        "    class_mode = 'binary')"
      ]
    },
    {
      "cell_type": "markdown",
      "metadata": {},
      "source": [
        "Build our CNN model, with 2 convolutions layers."
      ]
    },
    {
      "cell_type": "code",
      "execution_count": null,
      "metadata": {
        "id": "ATMuE3qCE1UX"
      },
      "outputs": [],
      "source": [
        "\n",
        "from keras.models import Sequential\n",
        "from keras.layers import Conv2D, MaxPooling2D, Flatten, Dense\n",
        "\n",
        "# Initialize the CNN\n",
        "classifier = Sequential()\n",
        "\n",
        "# Convolution layer 1\n",
        "classifier.add(Conv2D(32,kernel_size=(3,3), activation='relu', input_shape=(64,64,3)))\n",
        "classifier.add(MaxPooling2D(pool_size=(2,2)))\n",
        "\n",
        "# Convolution layer 2\n",
        "classifier.add(Conv2D(32,kernel_size=(3,3), activation='relu'))\n",
        "classifier.add(MaxPooling2D(pool_size=(2,2)))\n",
        "\n",
        "# Flattening\n",
        "classifier.add(Flatten())\n",
        "\n",
        "# Full connection\n",
        "classifier.add(Dense(units= 128, activation='relu'))\n",
        "classifier.add(Dense(units= 1, activation='sigmoid'))"
      ]
    },
    {
      "cell_type": "markdown",
      "metadata": {},
      "source": [
        "Compile and get the summary of our model."
      ]
    },
    {
      "cell_type": "code",
      "execution_count": null,
      "metadata": {
        "colab": {
          "base_uri": "https://localhost:8080/"
        },
        "id": "eMBmDHyHFZqx",
        "outputId": "2bb0e690-6c0b-4c6b-c5b7-f93f8e666e04"
      },
      "outputs": [],
      "source": [
        "classifier.compile(optimizer=\"adam\", loss=\"binary_crossentropy\", metrics=[\"accuracy\"])\n",
        "classifier.summary()"
      ]
    },
    {
      "cell_type": "code",
      "execution_count": null,
      "metadata": {
        "colab": {
          "background_save": true,
          "base_uri": "https://localhost:8080/"
        },
        "id": "fAeqVTZOF7kt",
        "outputId": "5973cb88-23c4-499c-9c96-3010e9937e3c"
      },
      "outputs": [],
      "source": [
        "history = classifier.fit(\n",
        "    train_generator,\n",
        "    steps_per_epoch = train_generator.samples // train_generator.batch_size,\n",
        "    epochs = 50,\n",
        "    validation_data = validation_generator,\n",
        "    validation_steps = validation_generator.samples // validation_generator.batch_size\n",
        ")"
      ]
    },
    {
      "cell_type": "markdown",
      "metadata": {},
      "source": [
        "Save the classifier at the root of our repository to use it later (without the need to re-compile the classifier)."
      ]
    },
    {
      "cell_type": "code",
      "execution_count": null,
      "metadata": {
        "id": "QfGHn3ygSEDW"
      },
      "outputs": [],
      "source": [
        "classifier.save('./exported_model/attractiveness_model.h5')"
      ]
    },
    {
      "cell_type": "markdown",
      "metadata": {
        "id": "VIKm856NyodD"
      },
      "source": [
        "## 6. Evaluate the model"
      ]
    },
    {
      "cell_type": "markdown",
      "metadata": {},
      "source": [
        "Load our already trained model."
      ]
    },
    {
      "cell_type": "code",
      "execution_count": 3,
      "metadata": {},
      "outputs": [],
      "source": [
        "from keras.models import load_model\n",
        "\n",
        "classifier= load_model('./exported_model/attractiveness_model.h5')"
      ]
    },
    {
      "cell_type": "markdown",
      "metadata": {},
      "source": [
        "To see if the model is still learning, we display the loss as a function of the number of epochs. "
      ]
    },
    {
      "cell_type": "code",
      "execution_count": null,
      "metadata": {
        "id": "dC6nNk7BUkeY"
      },
      "outputs": [],
      "source": [
        "loss_values = history.history['loss']\n",
        "epochs = range(1, len(loss_values) + 1)\n",
        "\n",
        "plt.plot(epochs, loss_values, label='Training Loss')\n",
        "plt.xlabel('Epochs')\n",
        "plt.ylabel('Loss')\n",
        "plt.legend()\n",
        "\n",
        "plt.show()"
      ]
    },
    {
      "cell_type": "markdown",
      "metadata": {},
      "source": [
        "Our model obtains an accuracy of 80% and an loss of 46%. This poor metrics can be explained by the attribute we've chosen. Attractiveness is subjective. So its prediction is much harder than predicting a gender or if someone is smiling."
      ]
    },
    {
      "cell_type": "code",
      "execution_count": null,
      "metadata": {
        "colab": {
          "base_uri": "https://localhost:8080/"
        },
        "id": "xqzdnezStaA6",
        "outputId": "f47829b8-3997-4f1b-b4fc-8a7b2a3d786f"
      },
      "outputs": [],
      "source": [
        "results = classifier.evaluate(validation_generator, verbose=0)\n",
        "results"
      ]
    },
    {
      "cell_type": "markdown",
      "metadata": {},
      "source": [
        "We can summarize the performance of our classification model using a confusion matrix."
      ]
    },
    {
      "cell_type": "code",
      "execution_count": null,
      "metadata": {},
      "outputs": [],
      "source": [
        "predictions = classifier.predict(validation_generator)\n",
        "predictions = (predictions > 0.5)"
      ]
    },
    {
      "cell_type": "code",
      "execution_count": null,
      "metadata": {
        "colab": {
          "base_uri": "https://localhost:8080/",
          "height": 359
        },
        "id": "YjsxMijrxmtW",
        "outputId": "4c8f6acc-a805-464b-f377-263b8746d24c"
      },
      "outputs": [],
      "source": [
        "from sklearn.metrics import confusion_matrix\n",
        "import seaborn as sns\n",
        "\n",
        "cm = confusion_matrix(validation_generator.classes, predictions)\n",
        "plt.figure(figsize=(6,6))\n",
        "sns.heatmap(cm, annot=True, fmt=\".3f\", linewidths=.5, square=True, cmap=\"Blues_r\")\n",
        "plt.xlabel(\"Predicted label\")\n",
        "plt.ylabel(\"Actual label\")\n",
        "plt.show()"
      ]
    },
    {
      "cell_type": "markdown",
      "metadata": {},
      "source": [
        "## 7. Predict a single image"
      ]
    },
    {
      "cell_type": "markdown",
      "metadata": {},
      "source": [
        "Finally we're going to use our model to predict attractiveness on a single picture."
      ]
    },
    {
      "cell_type": "code",
      "execution_count": 4,
      "metadata": {},
      "outputs": [],
      "source": [
        "from keras_preprocessing import image\n",
        "\n",
        "def classify(imagePath):\n",
        "  test_image = image.load_img(imagePath, target_size = (64, 64))\n",
        "  test_image = image.img_to_array(test_image).astype('float32') / 255 \n",
        "  test_image = np.expand_dims(test_image, axis = 0) # add an extra dimension to fake batch\n",
        "\n",
        "  result = classifier.predict(test_image)\n",
        "  if result[0][0] >= 0.5:\n",
        "      prediction = 'attractive'\n",
        "      probability = result[0][0]\n",
        "  else:\n",
        "      prediction = 'not attractive'\n",
        "      probability = 1 - result[0][0]\n",
        "  print(\"This person is \" + prediction + \" (\" + str(probability * 100) + \"%).\")"
      ]
    },
    {
      "cell_type": "code",
      "execution_count": 5,
      "metadata": {},
      "outputs": [],
      "source": [
        "from keras.preprocessing.image import load_img\n",
        "\n",
        "def showImage(imagePath):\n",
        "  img = load_img(imagePath)\n",
        "  plt.imshow(img)\n",
        "  plt.show()"
      ]
    },
    {
      "cell_type": "code",
      "execution_count": 11,
      "metadata": {},
      "outputs": [
        {
          "name": "stdout",
          "output_type": "stream",
          "text": [
            "This person is attractive (98.79876375198364%).\n"
          ]
        },
        {
          "data": {
            "image/png": "[encoded data removed]",
            "text/plain": [
              "<Figure size 432x288 with 1 Axes>"
            ]
          },
          "metadata": {
            "needs_background": "light"
          },
          "output_type": "display_data"
        }
      ],
      "source": [
        "imageToClassify = TEST_PIC_PATH + \"2.jpg\" # Can test from 0 to 3\n",
        "classify(imageToClassify)\n",
        "showImage(imageToClassify)"
      ]
    },
    {
      "cell_type": "markdown",
      "metadata": {},
      "source": [
        "The model does not perform well at all. When we test images from the dataset the output is different from the expected result."
      ]
    },
    {
      "cell_type": "markdown",
      "metadata": {},
      "source": [
        "## Conclusion\n",
        "\n",
        "We get very bad results with this model. The loss is very important, that's why the results obtained are not up to our expectations.\n",
        "\n",
        "This lack of performance is explained by the subjectivity of the attractiveness attribute. To demonstrate this, we've created a second, identical model that detects the smile. You can visualize it in the smiling.ipynb file."
      ]
    }
  ],
  "metadata": {
    "accelerator": "GPU",
    "colab": {
      "collapsed_sections": [],
      "name": "attractiveness.ipynb",
      "provenance": []
    },
    "kernelspec": {
      "display_name": "Python 3",
      "name": "python3"
    },
    "language_info": {
      "codemirror_mode": {
        "name": "ipython",
        "version": 3
      },
      "file_extension": ".py",
      "mimetype": "text/x-python",
      "name": "python",
      "nbconvert_exporter": "python",
      "pygments_lexer": "ipython3",
      "version": "3.9.7"
    }
  },
  "nbformat": 4,
  "nbformat_minor": 0
}
